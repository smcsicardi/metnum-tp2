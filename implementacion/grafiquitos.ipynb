{
 "cells": [
  {
   "cell_type": "code",
   "execution_count": 5,
   "metadata": {
    "collapsed": false
   },
   "outputs": [
    {
     "data": {
      "text/plain": [
       "<seaborn.axisgrid.FacetGrid at 0x10da03e10>"
      ]
     },
     "execution_count": 5,
     "metadata": {},
     "output_type": "execute_result"
    },
    {
     "data": {
      "image/png": "[encoded data removed]",
      "text/plain": [
       "<matplotlib.figure.Figure at 0x10da19f10>"
      ]
     },
     "metadata": {},
     "output_type": "display_data"
    }
   ],
   "source": [
    "%matplotlib inline\n",
    "import numpy as np\n",
    "import matplotlib.pyplot as plt\n",
    "import seaborn as sns\n",
    "import pandas as pd\n",
    "from sklearn import neighbors\n",
    "import knn\n",
    "\n",
    "df = pd.read_csv('csv/X2.csv')\n",
    "\n",
    "sns.lmplot('x1', 'x2', data=df, fit_reg=False, hue=\"persona\", palette=\"Paired\", scatter_kws={\"marker\": \"D\",\"s\": 100})\n",
    "\n",
    "#plt.figure(figsize=(8,6))\n",
    "#knn.plot(df, 3, 0.5)"
   ]
  },
  {
   "cell_type": "markdown",
   "metadata": {},
   "source": [
    "## N-Fold Cross Validation\n",
    "\n",
    "Empezamos con las 41 personas con 10 imagenes cada una. Guardamos la imagen 10 para usar ams tarde, y mezclamos las restantes 9 imagenes y hacemos n folds.\n",
    "\n",
    "Generamos nueve archivos `tests/fold{0..8}.in` que son la entrada de `tp2` y contamos la cantidad de éxitos."
   ]
  },
  {
   "cell_type": "code",
   "execution_count": 5,
   "metadata": {
    "collapsed": false
   },
   "outputs": [
    {
     "name": "stdout",
     "output_type": "stream",
     "text": [
      "tests/fold0.in ✔\n",
      "tests/fold1.in ✔\n",
      "tests/fold2.in ✔\n",
      "tests/fold3.in ✔\n",
      "tests/fold4.in ✔\n",
      "tests/fold5.in ✔\n",
      "tests/fold6.in ✔\n",
      "tests/fold7.in ✔\n",
      "tests/fold8.in ✔\n"
     ]
    }
   ],
   "source": [
    "from random import shuffle\n",
    "from collections import defaultdict\n",
    "\n",
    "def group(l):\n",
    "    d = defaultdict(list)\n",
    "    for p, i in l:\n",
    "        d[p].append(i)\n",
    "    return d\n",
    "\n",
    "def chunks(l, n):\n",
    "    for i in range(0, len(l), n):\n",
    "        yield l[i:i + n]\n",
    "\n",
    "pca_n = 4\n",
    "personas = 41\n",
    "imagenes = 9\n",
    "size = 1 # <-- n\n",
    "\n",
    "imgs = [str(i + 1) for i in range(imagenes)]\n",
    "shuffle(imgs)\n",
    "folds = list(chunks(imgs, size))\n",
    "\n",
    "for i, fold in enumerate(folds):\n",
    "    with open('tests/fold{}.in'.format(i), 'w') as f:\n",
    "        f.write('../data/ImagenesCarasRed/ 28 23 41 {} {}\\n'.format(9 - size, pca_n))\n",
    "        f.write('\\n')\n",
    "        \n",
    "        others = folds[0 : i] + folds[i+1 : int(imagenes/size)]\n",
    "        others_flat = [x for y in others for x in y]\n",
    "                \n",
    "        for p in range(personas):\n",
    "            f.write('s{}/ '.format(p+1) + ' '.join(others_flat))\n",
    "            f.write('\\n')\n",
    "            \n",
    "        f.write(str(personas))\n",
    "        f.write('\\n')\n",
    "        for p in range(personas):\n",
    "            for img in fold:\n",
    "                f.write('../data/ImagenesCarasRed/s{}/{}.pgm {}'.format(p+1, img, p+1))\n",
    "                f.write('\\n')\n",
    "        print(f.name, '✔')"
   ]
  },
  {
   "cell_type": "markdown",
   "metadata": {},
   "source": [
    "Para cada `fold{0..8}.in` vemos kNN para `k = 1..15`:"
   ]
  },
  {
   "cell_type": "code",
   "execution_count": 6,
   "metadata": {
    "collapsed": false
   },
   "outputs": [
    {
     "name": "stdout",
     "output_type": "stream",
     "text": [
      "k=1 0.7994579945799457\n",
      "k=2 0.6775067750677506\n",
      "k=3 0.7127371273712736\n",
      "k=4 0.6612466124661247\n",
      "k=5 0.6639566395663956\n",
      "k=6 0.6368563685636857\n",
      "k=7 0.6287262872628726\n",
      "k=8 0.6016260162601625\n",
      "k=9 0.5718157181571816\n",
      "k=10 0.5718157181571816\n",
      "k=11 0.5447154471544715\n",
      "k=12 0.5203252032520326\n",
      "k=13 0.5067750677506775\n",
      "k=14 0.4850948509485095\n",
      "k=15 0.4850948509485095\n"
     ]
    }
   ],
   "source": [
    "import subprocess\n",
    "import re\n",
    "\n",
    "def rate(fold_file, k):\n",
    "    res = subprocess.check_output([\"./kfold.sh\", str(k), fold_file])\n",
    "    rgx = re.compile(r'persona (\\d+) -> (\\d+)')\n",
    "    \n",
    "    success = 0.0\n",
    "    total = 0.0\n",
    "    for l in res.splitlines():\n",
    "        correct, guess = rgx.match(l.decode()).groups()\n",
    "        total += 1\n",
    "        success += 1 if correct == guess else 0\n",
    "    return success / total\n",
    "\n",
    "for k in range(15):\n",
    "    avg = 0\n",
    "    for f in range(len(folds)):\n",
    "        avg += rate('tests/fold{}.in'.format(f), k + 1)\n",
    "    print('k={}'.format(k+1), avg/9)"
   ]
  }
 ],
 "metadata": {
  "kernelspec": {
   "display_name": "Python 3",
   "language": "python",
   "name": "python3"
  },
  "language_info": {
   "codemirror_mode": {
    "name": "ipython",
    "version": 3
   },
   "file_extension": ".py",
   "mimetype": "text/x-python",
   "name": "python",
   "nbconvert_exporter": "python",
   "pygments_lexer": "ipython3",
   "version": "3.4.3"
  }
 },
 "nbformat": 4,
 "nbformat_minor": 2
}
